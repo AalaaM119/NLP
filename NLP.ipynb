{
 "cells": [
  {
   "cell_type": "code",
   "execution_count": 1,
   "id": "9e153955-c56a-4d15-87b1-c4b23f7114b5",
   "metadata": {},
   "outputs": [],
   "source": [
    "import numpy as np\n",
    "import pandas as pd\n",
    "import re"
   ]
  },
  {
   "cell_type": "code",
   "execution_count": 2,
   "id": "11d83dc5-72d0-4606-ae06-19168324b125",
   "metadata": {},
   "outputs": [
    {
     "data": {
      "text/html": [
       "<div>\n",
       "<style scoped>\n",
       "    .dataframe tbody tr th:only-of-type {\n",
       "        vertical-align: middle;\n",
       "    }\n",
       "\n",
       "    .dataframe tbody tr th {\n",
       "        vertical-align: top;\n",
       "    }\n",
       "\n",
       "    .dataframe thead th {\n",
       "        text-align: right;\n",
       "    }\n",
       "</style>\n",
       "<table border=\"1\" class=\"dataframe\">\n",
       "  <thead>\n",
       "    <tr style=\"text-align: right;\">\n",
       "      <th></th>\n",
       "      <th>user_name</th>\n",
       "      <th>user_location</th>\n",
       "      <th>user_description</th>\n",
       "      <th>user_created</th>\n",
       "      <th>user_followers</th>\n",
       "      <th>user_friends</th>\n",
       "      <th>user_favourites</th>\n",
       "      <th>user_verified</th>\n",
       "      <th>date</th>\n",
       "      <th>text</th>\n",
       "      <th>hashtags</th>\n",
       "      <th>source</th>\n",
       "      <th>is_retweet</th>\n",
       "    </tr>\n",
       "  </thead>\n",
       "  <tbody>\n",
       "    <tr>\n",
       "      <th>0</th>\n",
       "      <td>ᏉᎥ☻լꂅϮ</td>\n",
       "      <td>astroworld</td>\n",
       "      <td>wednesday addams as a disney princess keepin i...</td>\n",
       "      <td>2017-05-26 05:46:42</td>\n",
       "      <td>624</td>\n",
       "      <td>950</td>\n",
       "      <td>18775</td>\n",
       "      <td>False</td>\n",
       "      <td>2020-07-25 12:27:21</td>\n",
       "      <td>If I smelled the scent of hand sanitizers toda...</td>\n",
       "      <td>NaN</td>\n",
       "      <td>Twitter for iPhone</td>\n",
       "      <td>False</td>\n",
       "    </tr>\n",
       "  </tbody>\n",
       "</table>\n",
       "</div>"
      ],
      "text/plain": [
       "  user_name user_location                                   user_description  \\\n",
       "0    ᏉᎥ☻լꂅϮ    astroworld  wednesday addams as a disney princess keepin i...   \n",
       "\n",
       "          user_created  user_followers  user_friends  user_favourites  \\\n",
       "0  2017-05-26 05:46:42             624           950            18775   \n",
       "\n",
       "   user_verified                 date  \\\n",
       "0          False  2020-07-25 12:27:21   \n",
       "\n",
       "                                                text hashtags  \\\n",
       "0  If I smelled the scent of hand sanitizers toda...      NaN   \n",
       "\n",
       "               source  is_retweet  \n",
       "0  Twitter for iPhone       False  "
      ]
     },
     "execution_count": 2,
     "metadata": {},
     "output_type": "execute_result"
    }
   ],
   "source": [
    "data=pd.read_csv(\"covid19_tweets.csv\")\n",
    "data.head(1)"
   ]
  },
  {
   "cell_type": "code",
   "execution_count": 3,
   "id": "95d502aa-c812-4835-b06e-6c967aca1001",
   "metadata": {},
   "outputs": [],
   "source": [
    "data.drop(['user_name','user_location','user_description','user_created','user_followers','user_favourites','user_friends','user_verified','date','hashtags','source','is_retweet'],axis=1,inplace=True)"
   ]
  },
  {
   "cell_type": "code",
   "execution_count": 4,
   "id": "21b23995-6c82-4de5-950e-78ed03350640",
   "metadata": {},
   "outputs": [
    {
     "data": {
      "text/html": [
       "<div>\n",
       "<style scoped>\n",
       "    .dataframe tbody tr th:only-of-type {\n",
       "        vertical-align: middle;\n",
       "    }\n",
       "\n",
       "    .dataframe tbody tr th {\n",
       "        vertical-align: top;\n",
       "    }\n",
       "\n",
       "    .dataframe thead th {\n",
       "        text-align: right;\n",
       "    }\n",
       "</style>\n",
       "<table border=\"1\" class=\"dataframe\">\n",
       "  <thead>\n",
       "    <tr style=\"text-align: right;\">\n",
       "      <th></th>\n",
       "      <th>text</th>\n",
       "    </tr>\n",
       "  </thead>\n",
       "  <tbody>\n",
       "    <tr>\n",
       "      <th>0</th>\n",
       "      <td>If I smelled the scent of hand sanitizers toda...</td>\n",
       "    </tr>\n",
       "  </tbody>\n",
       "</table>\n",
       "</div>"
      ],
      "text/plain": [
       "                                                text\n",
       "0  If I smelled the scent of hand sanitizers toda..."
      ]
     },
     "execution_count": 4,
     "metadata": {},
     "output_type": "execute_result"
    }
   ],
   "source": [
    "data.head(1)"
   ]
  },
  {
   "cell_type": "code",
   "execution_count": 5,
   "id": "57f7d573-fe88-4c2f-aa3f-89249dee8218",
   "metadata": {
    "tags": []
   },
   "outputs": [
    {
     "data": {
      "text/plain": [
       "0         If I smelled the scent of hand sanitizers toda...\n",
       "1         Hey @Yankees @YankeesPR and @MLB - wouldn't it...\n",
       "2         @diane3443 @wdunlap @realDonaldTrump Trump nev...\n",
       "3         @brookbanktv The one gift #COVID19 has give me...\n",
       "4         25 July : Media Bulletin on Novel #CoronaVirus...\n",
       "                                ...                        \n",
       "179103    Thanks @IamOhmai for nominating me for the @WH...\n",
       "179104    2020! The year of insanity! Lol! #COVID19 http...\n",
       "179105    @CTVNews A powerful painting by Juan Lucena. I...\n",
       "179106    More than 1,200 students test positive for #CO...\n",
       "179107    I stop when I see a Stop\\n\\n@SABCNews\\n@Izinda...\n",
       "Name: text, Length: 179108, dtype: object"
      ]
     },
     "execution_count": 5,
     "metadata": {},
     "output_type": "execute_result"
    }
   ],
   "source": [
    "data['text']"
   ]
  },
  {
   "cell_type": "code",
   "execution_count": 6,
   "id": "22dec133-0670-45d3-aa84-6721efc23ad1",
   "metadata": {},
   "outputs": [
    {
     "data": {
      "text/plain": [
       "179108"
      ]
     },
     "execution_count": 6,
     "metadata": {},
     "output_type": "execute_result"
    }
   ],
   "source": [
    "len(data['text'])"
   ]
  },
  {
   "cell_type": "code",
   "execution_count": 7,
   "id": "b46164da-f7dc-414d-8c04-8fc6c4278ce7",
   "metadata": {},
   "outputs": [],
   "source": [
    "data.drop(data.tail(160000).index,inplace=True)    #becouse the data was too big "
   ]
  },
  {
   "cell_type": "code",
   "execution_count": 8,
   "id": "4394cf20-d8b1-4baa-bbcf-c78853183e21",
   "metadata": {},
   "outputs": [],
   "source": [
    "tweets=data['text']"
   ]
  },
  {
   "cell_type": "code",
   "execution_count": 9,
   "id": "1d7be5c1-d1cc-4f1a-89b9-5e9e3485225c",
   "metadata": {},
   "outputs": [
    {
     "data": {
      "text/plain": [
       "19108"
      ]
     },
     "execution_count": 9,
     "metadata": {},
     "output_type": "execute_result"
    }
   ],
   "source": [
    "len(tweets)"
   ]
  },
  {
   "cell_type": "markdown",
   "id": "d4d39692-4c59-4768-9564-ed409b18cf78",
   "metadata": {},
   "source": [
    "## data preprocessing "
   ]
  },
  {
   "cell_type": "code",
   "execution_count": 10,
   "id": "01cf6b4b-dde7-4bf1-9302-951838bfe2eb",
   "metadata": {},
   "outputs": [],
   "source": [
    "lower_tweets=[]\n",
    "for t in tweets :\n",
    "    t=t.lower()\n",
    "    lower_tweets.append(t)\n"
   ]
  },
  {
   "cell_type": "code",
   "execution_count": 11,
   "id": "ce22eccf-801e-4445-b5a9-ef38bf9d656c",
   "metadata": {},
   "outputs": [],
   "source": [
    "def clean_text(text): \n",
    "    text=re.sub('(@)\\w*',\"\",text)\n",
    "    text=re.sub(\"https?:\\/\\/\\S+\",\"\",text)\n",
    "    text=re.sub(\"(\\.|\\,|-)+\",\"\",text)\n",
    "    text=re.sub(\"(\\n)\\w*\",\"\",text)\n",
    "    return text \n"
   ]
  },
  {
   "cell_type": "code",
   "execution_count": 12,
   "id": "1ee0724f-f362-4a5e-9b3e-732976372386",
   "metadata": {},
   "outputs": [],
   "source": [
    "cleaned_tweets=[]\n",
    "for t in lower_tweets :\n",
    "    clean_t=clean_text(t)\n",
    "    cleaned_tweets.append(clean_t)"
   ]
  },
  {
   "cell_type": "code",
   "execution_count": 13,
   "id": "5b7c9260-aa0e-49fa-86e7-077f9db213e2",
   "metadata": {},
   "outputs": [
    {
     "data": {
      "text/plain": [
       "['if i smelled the scent of hand sanitizers today on someone in the past i would think they were so intoxicated that… ',\n",
       " \"hey   and   wouldn't it have made more sense to have the players pay their respects to the a… \",\n",
       " '   trump never once claimed #covid19 was a hoax we all claim that this effort to… ']"
      ]
     },
     "execution_count": 13,
     "metadata": {},
     "output_type": "execute_result"
    }
   ],
   "source": [
    "cleaned_tweets[:3]"
   ]
  },
  {
   "cell_type": "code",
   "execution_count": 14,
   "id": "abf97675-07cb-4e6a-b98e-b20b03c98b1f",
   "metadata": {},
   "outputs": [],
   "source": [
    "splitted=[]\n",
    "for t in cleaned_tweets:\n",
    "        text=t.split() #sequncing\n",
    "        splitted.append(text)"
   ]
  },
  {
   "cell_type": "code",
   "execution_count": 15,
   "id": "a0fa3fbe-a24d-45b7-a101-002ac7d21d78",
   "metadata": {},
   "outputs": [
    {
     "data": {
      "text/plain": [
       "['trump',\n",
       " 'never',\n",
       " 'once',\n",
       " 'claimed',\n",
       " '#covid19',\n",
       " 'was',\n",
       " 'a',\n",
       " 'hoax',\n",
       " 'we',\n",
       " 'all',\n",
       " 'claim',\n",
       " 'that',\n",
       " 'this',\n",
       " 'effort',\n",
       " 'to…']"
      ]
     },
     "execution_count": 15,
     "metadata": {},
     "output_type": "execute_result"
    }
   ],
   "source": [
    "splitted[2]"
   ]
  },
  {
   "cell_type": "code",
   "execution_count": 16,
   "id": "1667d54b-058b-4b5d-b803-d50762dff14a",
   "metadata": {},
   "outputs": [],
   "source": [
    "vocab=[]\n",
    "for t in splitted:\n",
    "    for word in t:\n",
    "        if word not in vocab:\n",
    "            vocab.append(word)"
   ]
  },
  {
   "cell_type": "code",
   "execution_count": 17,
   "id": "073c039d-3964-48c3-96cc-ae972a095514",
   "metadata": {},
   "outputs": [
    {
     "data": {
      "text/plain": [
       "['if',\n",
       " 'i',\n",
       " 'smelled',\n",
       " 'the',\n",
       " 'scent',\n",
       " 'of',\n",
       " 'hand',\n",
       " 'sanitizers',\n",
       " 'today',\n",
       " 'on']"
      ]
     },
     "execution_count": 17,
     "metadata": {},
     "output_type": "execute_result"
    }
   ],
   "source": [
    "vocab[:10]"
   ]
  },
  {
   "cell_type": "code",
   "execution_count": 18,
   "id": "aaed6d7f-d783-4fd1-a488-161349018294",
   "metadata": {},
   "outputs": [],
   "source": [
    "vocab_size=len(vocab)  #40949\n",
    "tweets_size=len(cleaned_tweets) #19108"
   ]
  },
  {
   "cell_type": "markdown",
   "id": "432f24a3-1306-413e-8e3b-5a5961dc8247",
   "metadata": {},
   "source": [
    "## text Prepration"
   ]
  },
  {
   "cell_type": "code",
   "execution_count": 19,
   "id": "39302c64-f82d-401e-b4a9-ccddfb601965",
   "metadata": {},
   "outputs": [],
   "source": [
    "from tensorflow.keras.preprocessing.text import one_hot "
   ]
  },
  {
   "cell_type": "code",
   "execution_count": 20,
   "id": "35d8b963-d87b-4808-8a5a-8c8a747ab4cd",
   "metadata": {},
   "outputs": [],
   "source": [
    "encoded_tweets=[one_hot(tweet ,vocab_size,filters='') for tweet in cleaned_tweets]"
   ]
  },
  {
   "cell_type": "code",
   "execution_count": 21,
   "id": "0a218922-bab2-4f44-ba10-7d5683b1a02b",
   "metadata": {},
   "outputs": [
    {
     "data": {
      "text/plain": [
       "[[21047,\n",
       "  39255,\n",
       "  4131,\n",
       "  13661,\n",
       "  9259,\n",
       "  19948,\n",
       "  7651,\n",
       "  28029,\n",
       "  9298,\n",
       "  26841,\n",
       "  17579,\n",
       "  22758,\n",
       "  13661,\n",
       "  29218,\n",
       "  39255,\n",
       "  19896,\n",
       "  33489,\n",
       "  35210,\n",
       "  36081,\n",
       "  37092,\n",
       "  25664,\n",
       "  3770],\n",
       " [27375,\n",
       "  24570,\n",
       "  37998,\n",
       "  13463,\n",
       "  22972,\n",
       "  7021,\n",
       "  39235,\n",
       "  26190,\n",
       "  37620,\n",
       "  22972,\n",
       "  13661,\n",
       "  12132,\n",
       "  16335,\n",
       "  3801,\n",
       "  31831,\n",
       "  37620,\n",
       "  13661,\n",
       "  38675],\n",
       " [34929,\n",
       "  1655,\n",
       "  33676,\n",
       "  32498,\n",
       "  18350,\n",
       "  19247,\n",
       "  5310,\n",
       "  32938,\n",
       "  18386,\n",
       "  26281,\n",
       "  20160,\n",
       "  31071,\n",
       "  23362,\n",
       "  15451,\n",
       "  31484]]"
      ]
     },
     "execution_count": 21,
     "metadata": {},
     "output_type": "execute_result"
    }
   ],
   "source": [
    "encoded_tweets[:3]"
   ]
  },
  {
   "cell_type": "code",
   "execution_count": 22,
   "id": "7e74b1b4-ad6b-467d-bd31-34762c00d0f5",
   "metadata": {},
   "outputs": [],
   "source": [
    "largest=len(encoded_tweets[0])\n",
    "smallest=len(encoded_tweets[0])\n",
    "for t in encoded_tweets:\n",
    "    x=len(t)\n",
    "    if x>largest:\n",
    "        largest=x\n",
    "    if x<smallest:\n",
    "        smallest=x"
   ]
  },
  {
   "cell_type": "code",
   "execution_count": 23,
   "id": "bfe62b5a-fc97-4990-8b1a-6e1303cd3f86",
   "metadata": {},
   "outputs": [
    {
     "data": {
      "text/plain": [
       "46"
      ]
     },
     "execution_count": 23,
     "metadata": {},
     "output_type": "execute_result"
    }
   ],
   "source": [
    "largest"
   ]
  },
  {
   "cell_type": "code",
   "execution_count": 24,
   "id": "bc79995f-de40-4205-8673-068dd9aa4ee5",
   "metadata": {},
   "outputs": [
    {
     "data": {
      "text/plain": [
       "1"
      ]
     },
     "execution_count": 24,
     "metadata": {},
     "output_type": "execute_result"
    }
   ],
   "source": [
    "smallest"
   ]
  },
  {
   "cell_type": "code",
   "execution_count": 39,
   "id": "2e1e4a9d-b690-492a-9962-e95142da6200",
   "metadata": {},
   "outputs": [],
   "source": [
    "from tensorflow.keras.preprocessing.sequence import pad_sequences\n",
    "padded_tweets=pad_sequences(encoded_tweets,maxlen=46,padding='post')"
   ]
  },
  {
   "cell_type": "code",
   "execution_count": 40,
   "id": "d13791bf-fd38-41fc-b8e7-37feadeefd34",
   "metadata": {},
   "outputs": [
    {
     "data": {
      "text/plain": [
       "array([[21047, 39255,  4131, 13661,  9259, 19948,  7651, 28029,  9298,\n",
       "        26841, 17579, 22758, 13661, 29218, 39255, 19896, 33489, 35210,\n",
       "        36081, 37092, 25664,  3770,     0,     0,     0,     0,     0,\n",
       "            0,     0,     0,     0,     0,     0,     0,     0,     0,\n",
       "            0,     0,     0,     0,     0,     0,     0,     0,     0,\n",
       "            0],\n",
       "       [27375, 24570, 37998, 13463, 22972,  7021, 39235, 26190, 37620,\n",
       "        22972, 13661, 12132, 16335,  3801, 31831, 37620, 13661, 38675,\n",
       "            0,     0,     0,     0,     0,     0,     0,     0,     0,\n",
       "            0,     0,     0,     0,     0,     0,     0,     0,     0,\n",
       "            0,     0,     0,     0,     0,     0,     0,     0,     0,\n",
       "            0],\n",
       "       [34929,  1655, 33676, 32498, 18350, 19247,  5310, 32938, 18386,\n",
       "        26281, 20160, 31071, 23362, 15451, 31484,     0,     0,     0,\n",
       "            0,     0,     0,     0,     0,     0,     0,     0,     0,\n",
       "            0,     0,     0,     0,     0,     0,     0,     0,     0,\n",
       "            0,     0,     0,     0,     0,     0,     0,     0,     0,\n",
       "            0]])"
      ]
     },
     "execution_count": 40,
     "metadata": {},
     "output_type": "execute_result"
    }
   ],
   "source": [
    "padded_tweets[:3]"
   ]
  },
  {
   "cell_type": "code",
   "execution_count": 41,
   "id": "cab00129-10be-4533-a752-112a0e7ee9ae",
   "metadata": {},
   "outputs": [],
   "source": [
    "seq_length =4\n",
    "X = []\n",
    "Y = []\n",
    "lenght=0\n",
    "for tweet in padded_tweets:\n",
    "    for i in range(0,46-seq_length,1):\n",
    "        input_ = tweet[i:i + seq_length]\n",
    "        output = tweet[i + seq_length]\n",
    "        X.append(input_)\n",
    "        Y.append(output)"
   ]
  },
  {
   "cell_type": "code",
   "execution_count": 43,
   "id": "e2a99aee-4607-4ae6-96f7-4e13f953e194",
   "metadata": {},
   "outputs": [
    {
     "data": {
      "text/plain": [
       "[array([21047, 39255,  4131, 13661]),\n",
       " array([39255,  4131, 13661,  9259]),\n",
       " array([ 4131, 13661,  9259, 19948]),\n",
       " array([13661,  9259, 19948,  7651]),\n",
       " array([ 9259, 19948,  7651, 28029]),\n",
       " array([19948,  7651, 28029,  9298])]"
      ]
     },
     "execution_count": 43,
     "metadata": {},
     "output_type": "execute_result"
    }
   ],
   "source": [
    "X[:6]"
   ]
  },
  {
   "cell_type": "code",
   "execution_count": 44,
   "id": "8b7143d6-5a38-4c10-87a5-a26f2707755f",
   "metadata": {},
   "outputs": [
    {
     "data": {
      "text/plain": [
       "[9259, 19948, 7651, 28029, 9298, 26841]"
      ]
     },
     "execution_count": 44,
     "metadata": {},
     "output_type": "execute_result"
    }
   ],
   "source": [
    "Y[:6]"
   ]
  },
  {
   "cell_type": "code",
   "execution_count": 45,
   "id": "ecfbc5e5-215d-44bb-a2ac-0e769fa2b624",
   "metadata": {},
   "outputs": [
    {
     "data": {
      "text/plain": [
       "802536"
      ]
     },
     "execution_count": 45,
     "metadata": {},
     "output_type": "execute_result"
    }
   ],
   "source": [
    "len(X)"
   ]
  },
  {
   "cell_type": "code",
   "execution_count": 46,
   "id": "cab7b896-6fb1-4161-83a9-342a93fbf5c2",
   "metadata": {},
   "outputs": [
    {
     "data": {
      "text/plain": [
       "802536"
      ]
     },
     "execution_count": 46,
     "metadata": {},
     "output_type": "execute_result"
    }
   ],
   "source": [
    "len(Y)"
   ]
  },
  {
   "cell_type": "code",
   "execution_count": 47,
   "id": "819c52c5-c4ac-4c35-9928-051d2fd3ae60",
   "metadata": {},
   "outputs": [
    {
     "data": {
      "text/plain": [
       "(700000, 102536)"
      ]
     },
     "execution_count": 47,
     "metadata": {},
     "output_type": "execute_result"
    }
   ],
   "source": [
    "train_X,train_y=X[:700000],Y[:700000]\n",
    "test_X,test_y=X[700000:],Y[700000:]\n",
    "len(train_X),len(test_X)"
   ]
  },
  {
   "cell_type": "code",
   "execution_count": 48,
   "id": "4ef94494-14a7-4e7b-85bf-85a2a9ce9c04",
   "metadata": {},
   "outputs": [],
   "source": [
    "from tensorflow.keras.models import Sequential\n",
    "from tensorflow.keras.layers import Embedding,Dense,Dropout,LSTM"
   ]
  },
  {
   "cell_type": "code",
   "execution_count": 51,
   "id": "9f68df9d-d621-4b58-9204-719d11d9f02a",
   "metadata": {},
   "outputs": [
    {
     "name": "stdout",
     "output_type": "stream",
     "text": [
      "Model: \"sequential_3\"\n",
      "_________________________________________________________________\n",
      " Layer (type)                Output Shape              Param #   \n",
      "=================================================================\n",
      " embedding_2 (Embedding)     (None, 20, 8)             5600000   \n",
      "                                                                 \n",
      " lstm_2 (LSTM)               (None, 200)               167200    \n",
      "                                                                 \n",
      " dense_4 (Dense)             (None, 20)                4020      \n",
      "                                                                 \n",
      " dropout_2 (Dropout)         (None, 20)                0         \n",
      "                                                                 \n",
      " dense_5 (Dense)             (None, 1)                 21        \n",
      "                                                                 \n",
      "=================================================================\n",
      "Total params: 5,771,241\n",
      "Trainable params: 5,771,241\n",
      "Non-trainable params: 0\n",
      "_________________________________________________________________\n"
     ]
    }
   ],
   "source": [
    "model=Sequential()\n",
    "model.add(Embedding(input_dim=len(train_X),output_dim=8,input_length=20))\n",
    "model.add(LSTM(200,activation='relu'))\n",
    "model.add(Dense(20,activation='relu'))\n",
    "model.add(Dropout(0.5))\n",
    "model.add(Dense(1,activation='sigmoid'))\n",
    "model.summary()"
   ]
  },
  {
   "cell_type": "code",
   "execution_count": 52,
   "id": "7294441a-1f91-4f1e-bae1-ae29b60da98d",
   "metadata": {},
   "outputs": [],
   "source": [
    "model.compile(loss='binary_crossentropy', optimizer='rmsprop')"
   ]
  },
  {
   "cell_type": "code",
   "execution_count": 53,
   "id": "5b955c62-f19d-4e8e-9dfe-3a88dfe3e34b",
   "metadata": {},
   "outputs": [
    {
     "ename": "ValueError",
     "evalue": "Failed to find data adapter that can handle input: (<class 'list'> containing values of types {\"<class 'numpy.ndarray'>\"}), (<class 'list'> containing values of types {\"<class 'numpy.int32'>\"})",
     "output_type": "error",
     "traceback": [
      "\u001b[1;31m---------------------------------------------------------------------------\u001b[0m",
      "\u001b[1;31mValueError\u001b[0m                                Traceback (most recent call last)",
      "\u001b[1;32m~\\AppData\\Local\\Temp\\ipykernel_15656\\1361137301.py\u001b[0m in \u001b[0;36m<module>\u001b[1;34m\u001b[0m\n\u001b[1;32m----> 1\u001b[1;33m \u001b[0mmodel\u001b[0m\u001b[1;33m.\u001b[0m\u001b[0mfit\u001b[0m\u001b[1;33m(\u001b[0m\u001b[0mtrain_X\u001b[0m\u001b[1;33m,\u001b[0m \u001b[0mtrain_y\u001b[0m\u001b[1;33m,\u001b[0m \u001b[0mepochs\u001b[0m\u001b[1;33m=\u001b[0m\u001b[1;36m20\u001b[0m\u001b[1;33m,\u001b[0m \u001b[0mbatch_size\u001b[0m\u001b[1;33m=\u001b[0m\u001b[1;36m128\u001b[0m\u001b[1;33m)\u001b[0m\u001b[1;33m\u001b[0m\u001b[1;33m\u001b[0m\u001b[0m\n\u001b[0m",
      "\u001b[1;32m~\\anaconda3\\lib\\site-packages\\keras\\utils\\traceback_utils.py\u001b[0m in \u001b[0;36merror_handler\u001b[1;34m(*args, **kwargs)\u001b[0m\n\u001b[0;32m     68\u001b[0m             \u001b[1;31m# To get the full stack trace, call:\u001b[0m\u001b[1;33m\u001b[0m\u001b[1;33m\u001b[0m\u001b[0m\n\u001b[0;32m     69\u001b[0m             \u001b[1;31m# `tf.debugging.disable_traceback_filtering()`\u001b[0m\u001b[1;33m\u001b[0m\u001b[1;33m\u001b[0m\u001b[0m\n\u001b[1;32m---> 70\u001b[1;33m             \u001b[1;32mraise\u001b[0m \u001b[0me\u001b[0m\u001b[1;33m.\u001b[0m\u001b[0mwith_traceback\u001b[0m\u001b[1;33m(\u001b[0m\u001b[0mfiltered_tb\u001b[0m\u001b[1;33m)\u001b[0m \u001b[1;32mfrom\u001b[0m \u001b[1;32mNone\u001b[0m\u001b[1;33m\u001b[0m\u001b[1;33m\u001b[0m\u001b[0m\n\u001b[0m\u001b[0;32m     71\u001b[0m         \u001b[1;32mfinally\u001b[0m\u001b[1;33m:\u001b[0m\u001b[1;33m\u001b[0m\u001b[1;33m\u001b[0m\u001b[0m\n\u001b[0;32m     72\u001b[0m             \u001b[1;32mdel\u001b[0m \u001b[0mfiltered_tb\u001b[0m\u001b[1;33m\u001b[0m\u001b[1;33m\u001b[0m\u001b[0m\n",
      "\u001b[1;32m~\\anaconda3\\lib\\site-packages\\keras\\engine\\data_adapter.py\u001b[0m in \u001b[0;36mselect_data_adapter\u001b[1;34m(x, y)\u001b[0m\n\u001b[0;32m   1079\u001b[0m     \u001b[1;32mif\u001b[0m \u001b[1;32mnot\u001b[0m \u001b[0madapter_cls\u001b[0m\u001b[1;33m:\u001b[0m\u001b[1;33m\u001b[0m\u001b[1;33m\u001b[0m\u001b[0m\n\u001b[0;32m   1080\u001b[0m         \u001b[1;31m# TODO(scottzhu): This should be a less implementation-specific error.\u001b[0m\u001b[1;33m\u001b[0m\u001b[1;33m\u001b[0m\u001b[0m\n\u001b[1;32m-> 1081\u001b[1;33m         raise ValueError(\n\u001b[0m\u001b[0;32m   1082\u001b[0m             \"Failed to find data adapter that can handle input: {}, {}\".format(\n\u001b[0;32m   1083\u001b[0m                 \u001b[0m_type_name\u001b[0m\u001b[1;33m(\u001b[0m\u001b[0mx\u001b[0m\u001b[1;33m)\u001b[0m\u001b[1;33m,\u001b[0m \u001b[0m_type_name\u001b[0m\u001b[1;33m(\u001b[0m\u001b[0my\u001b[0m\u001b[1;33m)\u001b[0m\u001b[1;33m\u001b[0m\u001b[1;33m\u001b[0m\u001b[0m\n",
      "\u001b[1;31mValueError\u001b[0m: Failed to find data adapter that can handle input: (<class 'list'> containing values of types {\"<class 'numpy.ndarray'>\"}), (<class 'list'> containing values of types {\"<class 'numpy.int32'>\"})"
     ]
    }
   ],
   "source": [
    "model.fit(train_X, train_y, epochs=20, batch_size=128)"
   ]
  },
  {
   "cell_type": "code",
   "execution_count": null,
   "id": "5a898dda-8b33-4a2a-9868-12620a3b89fc",
   "metadata": {},
   "outputs": [],
   "source": []
  }
 ],
 "metadata": {
  "kernelspec": {
   "display_name": "Python 3 (ipykernel)",
   "language": "python",
   "name": "python3"
  },
  "language_info": {
   "codemirror_mode": {
    "name": "ipython",
    "version": 3
   },
   "file_extension": ".py",
   "mimetype": "text/x-python",
   "name": "python",
   "nbconvert_exporter": "python",
   "pygments_lexer": "ipython3",
   "version": "3.9.13"
  }
 },
 "nbformat": 4,
 "nbformat_minor": 5
}
